{
  "nbformat": 4,
  "nbformat_minor": 0,
  "metadata": {
    "colab": {
      "provenance": [],
      "collapsed_sections": []
    },
    "kernelspec": {
      "name": "python3",
      "display_name": "Python 3"
    },
    "language_info": {
      "name": "python"
    }
  },
  "cells": [
    {
      "cell_type": "code",
      "execution_count": 1,
      "metadata": {
        "id": "t4Vl2by2vyiE"
      },
      "outputs": [],
      "source": [
        "import pandas as pd\n",
        "import numpy as np\n",
        "from sklearn.model_selection import train_test_split\n",
        "from sklearn.linear_model import LinearRegression\n",
        "from sklearn.pipeline import Pipeline\n",
        "from sklearn.preprocessing import Normalizer\n",
        "from sklearn.preprocessing import StandardScaler\n",
        "from sklearn.metrics import mean_squared_error, r2_score\n",
        "from sklearn.pipeline import make_pipeline\n",
        "import matplotlib.pyplot as plt\n",
        "from sklearn.preprocessing import PolynomialFeatures"
      ]
    },
    {
      "cell_type": "code",
      "source": [
        "df = pd.read_excel('datasetProf.xlsx',index_col=0,parse_dates=True)\n",
        "df.sort_values(by=['Date'], inplace = True)\n",
        "df=df.dropna()\n",
        "df=df.drop(axis=1,labels=\"Time\")\n",
        "df.head()"
      ],
      "metadata": {
        "colab": {
          "base_uri": "https://localhost:8080/",
          "height": 235
        },
        "id": "6CJfl-cSv7CN",
        "outputId": "c9e90d59-7406-4c40-a4ac-506b4b128c7b"
      },
      "execution_count": 2,
      "outputs": [
        {
          "output_type": "execute_result",
          "data": {
            "text/plain": [
              "            Bolus Volume Delivered (U)  Sensor Glucose (mg/dL)  ISIG Value\n",
              "Date                                                                      \n",
              "2022-02-01                       0.150                   185.0       33.11\n",
              "2022-02-01                       0.000                   175.0       31.92\n",
              "2022-02-01                       0.075                   179.0       32.39\n",
              "2022-02-01                       0.175                   182.0       32.63\n",
              "2022-02-01                       0.175                   186.0       32.92"
            ],
            "text/html": [
              "\n",
              "  <div id=\"df-4c257941-9059-4657-8ea8-238cf4dd72b5\">\n",
              "    <div class=\"colab-df-container\">\n",
              "      <div>\n",
              "<style scoped>\n",
              "    .dataframe tbody tr th:only-of-type {\n",
              "        vertical-align: middle;\n",
              "    }\n",
              "\n",
              "    .dataframe tbody tr th {\n",
              "        vertical-align: top;\n",
              "    }\n",
              "\n",
              "    .dataframe thead th {\n",
              "        text-align: right;\n",
              "    }\n",
              "</style>\n",
              "<table border=\"1\" class=\"dataframe\">\n",
              "  <thead>\n",
              "    <tr style=\"text-align: right;\">\n",
              "      <th></th>\n",
              "      <th>Bolus Volume Delivered (U)</th>\n",
              "      <th>Sensor Glucose (mg/dL)</th>\n",
              "      <th>ISIG Value</th>\n",
              "    </tr>\n",
              "    <tr>\n",
              "      <th>Date</th>\n",
              "      <th></th>\n",
              "      <th></th>\n",
              "      <th></th>\n",
              "    </tr>\n",
              "  </thead>\n",
              "  <tbody>\n",
              "    <tr>\n",
              "      <th>2022-02-01</th>\n",
              "      <td>0.150</td>\n",
              "      <td>185.0</td>\n",
              "      <td>33.11</td>\n",
              "    </tr>\n",
              "    <tr>\n",
              "      <th>2022-02-01</th>\n",
              "      <td>0.000</td>\n",
              "      <td>175.0</td>\n",
              "      <td>31.92</td>\n",
              "    </tr>\n",
              "    <tr>\n",
              "      <th>2022-02-01</th>\n",
              "      <td>0.075</td>\n",
              "      <td>179.0</td>\n",
              "      <td>32.39</td>\n",
              "    </tr>\n",
              "    <tr>\n",
              "      <th>2022-02-01</th>\n",
              "      <td>0.175</td>\n",
              "      <td>182.0</td>\n",
              "      <td>32.63</td>\n",
              "    </tr>\n",
              "    <tr>\n",
              "      <th>2022-02-01</th>\n",
              "      <td>0.175</td>\n",
              "      <td>186.0</td>\n",
              "      <td>32.92</td>\n",
              "    </tr>\n",
              "  </tbody>\n",
              "</table>\n",
              "</div>\n",
              "      <button class=\"colab-df-convert\" onclick=\"convertToInteractive('df-4c257941-9059-4657-8ea8-238cf4dd72b5')\"\n",
              "              title=\"Convert this dataframe to an interactive table.\"\n",
              "              style=\"display:none;\">\n",
              "        \n",
              "  <svg xmlns=\"http://www.w3.org/2000/svg\" height=\"24px\"viewBox=\"0 0 24 24\"\n",
              "       width=\"24px\">\n",
              "    <path d=\"M0 0h24v24H0V0z\" fill=\"none\"/>\n",
              "    <path d=\"M18.56 5.44l.94 2.06.94-2.06 2.06-.94-2.06-.94-.94-2.06-.94 2.06-2.06.94zm-11 1L8.5 8.5l.94-2.06 2.06-.94-2.06-.94L8.5 2.5l-.94 2.06-2.06.94zm10 10l.94 2.06.94-2.06 2.06-.94-2.06-.94-.94-2.06-.94 2.06-2.06.94z\"/><path d=\"M17.41 7.96l-1.37-1.37c-.4-.4-.92-.59-1.43-.59-.52 0-1.04.2-1.43.59L10.3 9.45l-7.72 7.72c-.78.78-.78 2.05 0 2.83L4 21.41c.39.39.9.59 1.41.59.51 0 1.02-.2 1.41-.59l7.78-7.78 2.81-2.81c.8-.78.8-2.07 0-2.86zM5.41 20L4 18.59l7.72-7.72 1.47 1.35L5.41 20z\"/>\n",
              "  </svg>\n",
              "      </button>\n",
              "      \n",
              "  <style>\n",
              "    .colab-df-container {\n",
              "      display:flex;\n",
              "      flex-wrap:wrap;\n",
              "      gap: 12px;\n",
              "    }\n",
              "\n",
              "    .colab-df-convert {\n",
              "      background-color: #E8F0FE;\n",
              "      border: none;\n",
              "      border-radius: 50%;\n",
              "      cursor: pointer;\n",
              "      display: none;\n",
              "      fill: #1967D2;\n",
              "      height: 32px;\n",
              "      padding: 0 0 0 0;\n",
              "      width: 32px;\n",
              "    }\n",
              "\n",
              "    .colab-df-convert:hover {\n",
              "      background-color: #E2EBFA;\n",
              "      box-shadow: 0px 1px 2px rgba(60, 64, 67, 0.3), 0px 1px 3px 1px rgba(60, 64, 67, 0.15);\n",
              "      fill: #174EA6;\n",
              "    }\n",
              "\n",
              "    [theme=dark] .colab-df-convert {\n",
              "      background-color: #3B4455;\n",
              "      fill: #D2E3FC;\n",
              "    }\n",
              "\n",
              "    [theme=dark] .colab-df-convert:hover {\n",
              "      background-color: #434B5C;\n",
              "      box-shadow: 0px 1px 3px 1px rgba(0, 0, 0, 0.15);\n",
              "      filter: drop-shadow(0px 1px 2px rgba(0, 0, 0, 0.3));\n",
              "      fill: #FFFFFF;\n",
              "    }\n",
              "  </style>\n",
              "\n",
              "      <script>\n",
              "        const buttonEl =\n",
              "          document.querySelector('#df-4c257941-9059-4657-8ea8-238cf4dd72b5 button.colab-df-convert');\n",
              "        buttonEl.style.display =\n",
              "          google.colab.kernel.accessAllowed ? 'block' : 'none';\n",
              "\n",
              "        async function convertToInteractive(key) {\n",
              "          const element = document.querySelector('#df-4c257941-9059-4657-8ea8-238cf4dd72b5');\n",
              "          const dataTable =\n",
              "            await google.colab.kernel.invokeFunction('convertToInteractive',\n",
              "                                                     [key], {});\n",
              "          if (!dataTable) return;\n",
              "\n",
              "          const docLinkHtml = 'Like what you see? Visit the ' +\n",
              "            '<a target=\"_blank\" href=https://colab.research.google.com/notebooks/data_table.ipynb>data table notebook</a>'\n",
              "            + ' to learn more about interactive tables.';\n",
              "          element.innerHTML = '';\n",
              "          dataTable['output_type'] = 'display_data';\n",
              "          await google.colab.output.renderOutput(dataTable, element);\n",
              "          const docLink = document.createElement('div');\n",
              "          docLink.innerHTML = docLinkHtml;\n",
              "          element.appendChild(docLink);\n",
              "        }\n",
              "      </script>\n",
              "    </div>\n",
              "  </div>\n",
              "  "
            ]
          },
          "metadata": {},
          "execution_count": 2
        }
      ]
    },
    {
      "cell_type": "code",
      "source": [
        "#eliminazioni anomalie\n",
        "from numpy import percentile\n",
        "\n",
        "q25, q75 = percentile(df, 25), percentile(df, 75)\n",
        "iqr = q75 - q25\n",
        "cut_off = iqr * 1.5\n",
        "lower, upper = q25 - cut_off, q75 + cut_off\n",
        "\n",
        "print(lower)\n",
        "print(upper)\n",
        "\n",
        "df=df.loc[df['Sensor Glucose (mg/dL)']>lower]\n",
        "df=df.loc[df['Sensor Glucose (mg/dL)']<upper]\n",
        "\n",
        "df.head()"
      ],
      "metadata": {
        "colab": {
          "base_uri": "https://localhost:8080/",
          "height": 269
        },
        "id": "90PJb5Yev8x9",
        "outputId": "05766611-186d-43b8-c634-72fdb265a218"
      },
      "execution_count": 3,
      "outputs": [
        {
          "output_type": "stream",
          "name": "stdout",
          "text": [
            "-151.0625\n",
            "252.2375\n"
          ]
        },
        {
          "output_type": "execute_result",
          "data": {
            "text/plain": [
              "            Bolus Volume Delivered (U)  Sensor Glucose (mg/dL)  ISIG Value\n",
              "Date                                                                      \n",
              "2022-02-01                       0.150                   185.0       33.11\n",
              "2022-02-01                       0.000                   175.0       31.92\n",
              "2022-02-01                       0.075                   179.0       32.39\n",
              "2022-02-01                       0.175                   182.0       32.63\n",
              "2022-02-01                       0.175                   186.0       32.92"
            ],
            "text/html": [
              "\n",
              "  <div id=\"df-275d8e16-cd52-4d1e-bbbd-81ac2fef6166\">\n",
              "    <div class=\"colab-df-container\">\n",
              "      <div>\n",
              "<style scoped>\n",
              "    .dataframe tbody tr th:only-of-type {\n",
              "        vertical-align: middle;\n",
              "    }\n",
              "\n",
              "    .dataframe tbody tr th {\n",
              "        vertical-align: top;\n",
              "    }\n",
              "\n",
              "    .dataframe thead th {\n",
              "        text-align: right;\n",
              "    }\n",
              "</style>\n",
              "<table border=\"1\" class=\"dataframe\">\n",
              "  <thead>\n",
              "    <tr style=\"text-align: right;\">\n",
              "      <th></th>\n",
              "      <th>Bolus Volume Delivered (U)</th>\n",
              "      <th>Sensor Glucose (mg/dL)</th>\n",
              "      <th>ISIG Value</th>\n",
              "    </tr>\n",
              "    <tr>\n",
              "      <th>Date</th>\n",
              "      <th></th>\n",
              "      <th></th>\n",
              "      <th></th>\n",
              "    </tr>\n",
              "  </thead>\n",
              "  <tbody>\n",
              "    <tr>\n",
              "      <th>2022-02-01</th>\n",
              "      <td>0.150</td>\n",
              "      <td>185.0</td>\n",
              "      <td>33.11</td>\n",
              "    </tr>\n",
              "    <tr>\n",
              "      <th>2022-02-01</th>\n",
              "      <td>0.000</td>\n",
              "      <td>175.0</td>\n",
              "      <td>31.92</td>\n",
              "    </tr>\n",
              "    <tr>\n",
              "      <th>2022-02-01</th>\n",
              "      <td>0.075</td>\n",
              "      <td>179.0</td>\n",
              "      <td>32.39</td>\n",
              "    </tr>\n",
              "    <tr>\n",
              "      <th>2022-02-01</th>\n",
              "      <td>0.175</td>\n",
              "      <td>182.0</td>\n",
              "      <td>32.63</td>\n",
              "    </tr>\n",
              "    <tr>\n",
              "      <th>2022-02-01</th>\n",
              "      <td>0.175</td>\n",
              "      <td>186.0</td>\n",
              "      <td>32.92</td>\n",
              "    </tr>\n",
              "  </tbody>\n",
              "</table>\n",
              "</div>\n",
              "      <button class=\"colab-df-convert\" onclick=\"convertToInteractive('df-275d8e16-cd52-4d1e-bbbd-81ac2fef6166')\"\n",
              "              title=\"Convert this dataframe to an interactive table.\"\n",
              "              style=\"display:none;\">\n",
              "        \n",
              "  <svg xmlns=\"http://www.w3.org/2000/svg\" height=\"24px\"viewBox=\"0 0 24 24\"\n",
              "       width=\"24px\">\n",
              "    <path d=\"M0 0h24v24H0V0z\" fill=\"none\"/>\n",
              "    <path d=\"M18.56 5.44l.94 2.06.94-2.06 2.06-.94-2.06-.94-.94-2.06-.94 2.06-2.06.94zm-11 1L8.5 8.5l.94-2.06 2.06-.94-2.06-.94L8.5 2.5l-.94 2.06-2.06.94zm10 10l.94 2.06.94-2.06 2.06-.94-2.06-.94-.94-2.06-.94 2.06-2.06.94z\"/><path d=\"M17.41 7.96l-1.37-1.37c-.4-.4-.92-.59-1.43-.59-.52 0-1.04.2-1.43.59L10.3 9.45l-7.72 7.72c-.78.78-.78 2.05 0 2.83L4 21.41c.39.39.9.59 1.41.59.51 0 1.02-.2 1.41-.59l7.78-7.78 2.81-2.81c.8-.78.8-2.07 0-2.86zM5.41 20L4 18.59l7.72-7.72 1.47 1.35L5.41 20z\"/>\n",
              "  </svg>\n",
              "      </button>\n",
              "      \n",
              "  <style>\n",
              "    .colab-df-container {\n",
              "      display:flex;\n",
              "      flex-wrap:wrap;\n",
              "      gap: 12px;\n",
              "    }\n",
              "\n",
              "    .colab-df-convert {\n",
              "      background-color: #E8F0FE;\n",
              "      border: none;\n",
              "      border-radius: 50%;\n",
              "      cursor: pointer;\n",
              "      display: none;\n",
              "      fill: #1967D2;\n",
              "      height: 32px;\n",
              "      padding: 0 0 0 0;\n",
              "      width: 32px;\n",
              "    }\n",
              "\n",
              "    .colab-df-convert:hover {\n",
              "      background-color: #E2EBFA;\n",
              "      box-shadow: 0px 1px 2px rgba(60, 64, 67, 0.3), 0px 1px 3px 1px rgba(60, 64, 67, 0.15);\n",
              "      fill: #174EA6;\n",
              "    }\n",
              "\n",
              "    [theme=dark] .colab-df-convert {\n",
              "      background-color: #3B4455;\n",
              "      fill: #D2E3FC;\n",
              "    }\n",
              "\n",
              "    [theme=dark] .colab-df-convert:hover {\n",
              "      background-color: #434B5C;\n",
              "      box-shadow: 0px 1px 3px 1px rgba(0, 0, 0, 0.15);\n",
              "      filter: drop-shadow(0px 1px 2px rgba(0, 0, 0, 0.3));\n",
              "      fill: #FFFFFF;\n",
              "    }\n",
              "  </style>\n",
              "\n",
              "      <script>\n",
              "        const buttonEl =\n",
              "          document.querySelector('#df-275d8e16-cd52-4d1e-bbbd-81ac2fef6166 button.colab-df-convert');\n",
              "        buttonEl.style.display =\n",
              "          google.colab.kernel.accessAllowed ? 'block' : 'none';\n",
              "\n",
              "        async function convertToInteractive(key) {\n",
              "          const element = document.querySelector('#df-275d8e16-cd52-4d1e-bbbd-81ac2fef6166');\n",
              "          const dataTable =\n",
              "            await google.colab.kernel.invokeFunction('convertToInteractive',\n",
              "                                                     [key], {});\n",
              "          if (!dataTable) return;\n",
              "\n",
              "          const docLinkHtml = 'Like what you see? Visit the ' +\n",
              "            '<a target=\"_blank\" href=https://colab.research.google.com/notebooks/data_table.ipynb>data table notebook</a>'\n",
              "            + ' to learn more about interactive tables.';\n",
              "          element.innerHTML = '';\n",
              "          dataTable['output_type'] = 'display_data';\n",
              "          await google.colab.output.renderOutput(dataTable, element);\n",
              "          const docLink = document.createElement('div');\n",
              "          docLink.innerHTML = docLinkHtml;\n",
              "          element.appendChild(docLink);\n",
              "        }\n",
              "      </script>\n",
              "    </div>\n",
              "  </div>\n",
              "  "
            ]
          },
          "metadata": {},
          "execution_count": 3
        }
      ]
    },
    {
      "cell_type": "code",
      "source": [
        "import datetime\n",
        "\n",
        "start_train = str(datetime.datetime(2022, 2, 1,0,0))\n",
        "end_train = str(datetime.datetime(2022, 3, 14, 0, 0)) #un mese e due settimane per il training\n",
        "start_test = str(datetime.datetime(2022, 3, 15,0,0))\n",
        "end_test = str(datetime.datetime(2022, 4, 3 , 0, 0)) #tre settimane per il testing\n",
        "start_validation=str(datetime.datetime(2022, 4, 4, 0, 0))\n",
        "end_validation = str(datetime.datetime(2022, 4, 4, 23, 59)) #un giorno per la validazione\n",
        "\n",
        "#Prendiamo i dati necessari per il training\n",
        "df_train=df.loc[start_train:end_train]\n",
        "X_train=df_train.drop(\"Sensor Glucose (mg/dL)\", axis=1).values\n",
        "Y_train=df_train[\"Sensor Glucose (mg/dL)\"].values\n",
        "\n",
        "#Prendiamo i dati necessari per il testing\n",
        "df_test=df.loc[start_test:end_test]\n",
        "X_test=df_test.drop(\"Sensor Glucose (mg/dL)\", axis=1).values\n",
        "Y_test=df_test[\"Sensor Glucose (mg/dL)\"].values\n",
        "\n",
        "plt.figure().set_figwidth(15)\n",
        "plt.plot(df_test.index,Y_test)"
      ],
      "metadata": {
        "colab": {
          "base_uri": "https://localhost:8080/",
          "height": 282
        },
        "id": "X-h1vTFZwA91",
        "outputId": "20a2b486-d737-417d-dd75-0ae1a196a0b9"
      },
      "execution_count": 4,
      "outputs": [
        {
          "output_type": "execute_result",
          "data": {
            "text/plain": [
              "[<matplotlib.lines.Line2D at 0x7f1f96c5af90>]"
            ]
          },
          "metadata": {},
          "execution_count": 4
        },
        {
          "output_type": "display_data",
          "data": {
            "text/plain": [
              "<Figure size 1080x288 with 1 Axes>"
            ],
            "image/png": "[encoded data removed]"
          },
          "metadata": {
            "needs_background": "light"
          }
        }
      ]
    },
    {
      "cell_type": "code",
      "source": [
        "#Standardizziamo i dati e alleniamo il regressore\n",
        "\n",
        "pipe=make_pipeline(StandardScaler(), LinearRegression())\n",
        "pipe.fit(X_train,Y_train)\n",
        "\n",
        "#Facciamo la nostra predizione sui dati di testing\n",
        "Y_pred = pipe.predict(X_test)"
      ],
      "metadata": {
        "id": "KodbuAA-wG8_"
      },
      "execution_count": 5,
      "outputs": []
    },
    {
      "cell_type": "code",
      "source": [
        "plt.figure().set_figwidth(15)\n",
        "plt.plot(df_test.index,Y_pred,color='red')"
      ],
      "metadata": {
        "colab": {
          "base_uri": "https://localhost:8080/",
          "height": 282
        },
        "id": "zW6gxuKVwL3C",
        "outputId": "27532262-0dc3-43a2-8c62-f30f7a7162d8"
      },
      "execution_count": 6,
      "outputs": [
        {
          "output_type": "execute_result",
          "data": {
            "text/plain": [
              "[<matplotlib.lines.Line2D at 0x7f1f96dcbfd0>]"
            ]
          },
          "metadata": {},
          "execution_count": 6
        },
        {
          "output_type": "display_data",
          "data": {
            "text/plain": [
              "<Figure size 1080x288 with 1 Axes>"
            ],
            "image/png": "[encoded data removed]"
          },
          "metadata": {
            "needs_background": "light"
          }
        }
      ]
    },
    {
      "cell_type": "code",
      "source": [
        "errore = mean_squared_error(Y_test, Y_pred)\n",
        "print(\"Errore:\", errore)\n",
        "punteggio = r2_score(Y_test, Y_pred)\n",
        "print(\"Score:\", punteggio)"
      ],
      "metadata": {
        "colab": {
          "base_uri": "https://localhost:8080/"
        },
        "id": "76TqUMOLwORD",
        "outputId": "2767984c-20d7-432e-b8a5-c5563d7952b0"
      },
      "execution_count": 7,
      "outputs": [
        {
          "output_type": "stream",
          "name": "stdout",
          "text": [
            "Errore: 414.95936947477736\n",
            "Score: 0.7063803048355112\n"
          ]
        }
      ]
    },
    {
      "cell_type": "code",
      "source": [
        "#A questo punto vediamolo considerando anche l'ora del giorno così da avere un grafico più preciso:\n",
        "#rileggo il dataset perchè prima non avevo usato il timestamp\n",
        "df = pd.read_excel('datasetProf.xlsx')\n",
        "df=df.dropna() #toglie le righe dove ci sono ISIG o GLICEMIA nulli\n",
        "df[\"timestamp\"]=df['Date'].astype(str) +\" \"+ df[\"Time\"].astype(str)\n",
        "df=df.drop(axis=1,labels=\"Date\")\n",
        "df=df.drop(axis=1,labels=\"Time\")\n",
        "df.set_index(\"timestamp\",drop=True,inplace=True)\n",
        "df.sort_values(by=['timestamp'], inplace = True)\n",
        "df.index = pd.to_datetime(df.index)\n",
        "\n",
        "from numpy import percentile\n",
        "\n",
        "q25, q75 = percentile(df, 25), percentile(df, 75)\n",
        "iqr = q75 - q25\n",
        "cut_off = iqr * 1.5\n",
        "lower, upper = q25 - cut_off, q75 + cut_off\n",
        "\n",
        "print(lower)\n",
        "print(upper)\n",
        "\n",
        "df=df.loc[df['Sensor Glucose (mg/dL)']>lower]\n",
        "df=df.loc[df['Sensor Glucose (mg/dL)']<upper]\n",
        "\n",
        "df.head()"
      ],
      "metadata": {
        "colab": {
          "base_uri": "https://localhost:8080/",
          "height": 269
        },
        "id": "7dyEO79twRLO",
        "outputId": "ba8160c6-0fb7-47cf-c9fd-323040683af1"
      },
      "execution_count": 8,
      "outputs": [
        {
          "output_type": "stream",
          "name": "stdout",
          "text": [
            "-151.0625\n",
            "252.2375\n"
          ]
        },
        {
          "output_type": "execute_result",
          "data": {
            "text/plain": [
              "                     Bolus Volume Delivered (U)  Sensor Glucose (mg/dL)  \\\n",
              "timestamp                                                                 \n",
              "2022-02-01 23:05:00                       0.150                   185.0   \n",
              "2022-02-01 23:10:01                       0.175                   186.0   \n",
              "2022-02-01 23:15:00                       0.150                   186.0   \n",
              "2022-02-01 23:20:09                       0.230                   187.0   \n",
              "2022-02-01 23:25:01                       0.175                   189.0   \n",
              "\n",
              "                     ISIG Value  \n",
              "timestamp                        \n",
              "2022-02-01 23:05:00       33.11  \n",
              "2022-02-01 23:10:01       32.84  \n",
              "2022-02-01 23:15:00       32.81  \n",
              "2022-02-01 23:20:09       33.16  \n",
              "2022-02-01 23:25:01       33.45  "
            ],
            "text/html": [
              "\n",
              "  <div id=\"df-4d768707-9d1d-4204-91a0-13392436b856\">\n",
              "    <div class=\"colab-df-container\">\n",
              "      <div>\n",
              "<style scoped>\n",
              "    .dataframe tbody tr th:only-of-type {\n",
              "        vertical-align: middle;\n",
              "    }\n",
              "\n",
              "    .dataframe tbody tr th {\n",
              "        vertical-align: top;\n",
              "    }\n",
              "\n",
              "    .dataframe thead th {\n",
              "        text-align: right;\n",
              "    }\n",
              "</style>\n",
              "<table border=\"1\" class=\"dataframe\">\n",
              "  <thead>\n",
              "    <tr style=\"text-align: right;\">\n",
              "      <th></th>\n",
              "      <th>Bolus Volume Delivered (U)</th>\n",
              "      <th>Sensor Glucose (mg/dL)</th>\n",
              "      <th>ISIG Value</th>\n",
              "    </tr>\n",
              "    <tr>\n",
              "      <th>timestamp</th>\n",
              "      <th></th>\n",
              "      <th></th>\n",
              "      <th></th>\n",
              "    </tr>\n",
              "  </thead>\n",
              "  <tbody>\n",
              "    <tr>\n",
              "      <th>2022-02-01 23:05:00</th>\n",
              "      <td>0.150</td>\n",
              "      <td>185.0</td>\n",
              "      <td>33.11</td>\n",
              "    </tr>\n",
              "    <tr>\n",
              "      <th>2022-02-01 23:10:01</th>\n",
              "      <td>0.175</td>\n",
              "      <td>186.0</td>\n",
              "      <td>32.84</td>\n",
              "    </tr>\n",
              "    <tr>\n",
              "      <th>2022-02-01 23:15:00</th>\n",
              "      <td>0.150</td>\n",
              "      <td>186.0</td>\n",
              "      <td>32.81</td>\n",
              "    </tr>\n",
              "    <tr>\n",
              "      <th>2022-02-01 23:20:09</th>\n",
              "      <td>0.230</td>\n",
              "      <td>187.0</td>\n",
              "      <td>33.16</td>\n",
              "    </tr>\n",
              "    <tr>\n",
              "      <th>2022-02-01 23:25:01</th>\n",
              "      <td>0.175</td>\n",
              "      <td>189.0</td>\n",
              "      <td>33.45</td>\n",
              "    </tr>\n",
              "  </tbody>\n",
              "</table>\n",
              "</div>\n",
              "      <button class=\"colab-df-convert\" onclick=\"convertToInteractive('df-4d768707-9d1d-4204-91a0-13392436b856')\"\n",
              "              title=\"Convert this dataframe to an interactive table.\"\n",
              "              style=\"display:none;\">\n",
              "        \n",
              "  <svg xmlns=\"http://www.w3.org/2000/svg\" height=\"24px\"viewBox=\"0 0 24 24\"\n",
              "       width=\"24px\">\n",
              "    <path d=\"M0 0h24v24H0V0z\" fill=\"none\"/>\n",
              "    <path d=\"M18.56 5.44l.94 2.06.94-2.06 2.06-.94-2.06-.94-.94-2.06-.94 2.06-2.06.94zm-11 1L8.5 8.5l.94-2.06 2.06-.94-2.06-.94L8.5 2.5l-.94 2.06-2.06.94zm10 10l.94 2.06.94-2.06 2.06-.94-2.06-.94-.94-2.06-.94 2.06-2.06.94z\"/><path d=\"M17.41 7.96l-1.37-1.37c-.4-.4-.92-.59-1.43-.59-.52 0-1.04.2-1.43.59L10.3 9.45l-7.72 7.72c-.78.78-.78 2.05 0 2.83L4 21.41c.39.39.9.59 1.41.59.51 0 1.02-.2 1.41-.59l7.78-7.78 2.81-2.81c.8-.78.8-2.07 0-2.86zM5.41 20L4 18.59l7.72-7.72 1.47 1.35L5.41 20z\"/>\n",
              "  </svg>\n",
              "      </button>\n",
              "      \n",
              "  <style>\n",
              "    .colab-df-container {\n",
              "      display:flex;\n",
              "      flex-wrap:wrap;\n",
              "      gap: 12px;\n",
              "    }\n",
              "\n",
              "    .colab-df-convert {\n",
              "      background-color: #E8F0FE;\n",
              "      border: none;\n",
              "      border-radius: 50%;\n",
              "      cursor: pointer;\n",
              "      display: none;\n",
              "      fill: #1967D2;\n",
              "      height: 32px;\n",
              "      padding: 0 0 0 0;\n",
              "      width: 32px;\n",
              "    }\n",
              "\n",
              "    .colab-df-convert:hover {\n",
              "      background-color: #E2EBFA;\n",
              "      box-shadow: 0px 1px 2px rgba(60, 64, 67, 0.3), 0px 1px 3px 1px rgba(60, 64, 67, 0.15);\n",
              "      fill: #174EA6;\n",
              "    }\n",
              "\n",
              "    [theme=dark] .colab-df-convert {\n",
              "      background-color: #3B4455;\n",
              "      fill: #D2E3FC;\n",
              "    }\n",
              "\n",
              "    [theme=dark] .colab-df-convert:hover {\n",
              "      background-color: #434B5C;\n",
              "      box-shadow: 0px 1px 3px 1px rgba(0, 0, 0, 0.15);\n",
              "      filter: drop-shadow(0px 1px 2px rgba(0, 0, 0, 0.3));\n",
              "      fill: #FFFFFF;\n",
              "    }\n",
              "  </style>\n",
              "\n",
              "      <script>\n",
              "        const buttonEl =\n",
              "          document.querySelector('#df-4d768707-9d1d-4204-91a0-13392436b856 button.colab-df-convert');\n",
              "        buttonEl.style.display =\n",
              "          google.colab.kernel.accessAllowed ? 'block' : 'none';\n",
              "\n",
              "        async function convertToInteractive(key) {\n",
              "          const element = document.querySelector('#df-4d768707-9d1d-4204-91a0-13392436b856');\n",
              "          const dataTable =\n",
              "            await google.colab.kernel.invokeFunction('convertToInteractive',\n",
              "                                                     [key], {});\n",
              "          if (!dataTable) return;\n",
              "\n",
              "          const docLinkHtml = 'Like what you see? Visit the ' +\n",
              "            '<a target=\"_blank\" href=https://colab.research.google.com/notebooks/data_table.ipynb>data table notebook</a>'\n",
              "            + ' to learn more about interactive tables.';\n",
              "          element.innerHTML = '';\n",
              "          dataTable['output_type'] = 'display_data';\n",
              "          await google.colab.output.renderOutput(dataTable, element);\n",
              "          const docLink = document.createElement('div');\n",
              "          docLink.innerHTML = docLinkHtml;\n",
              "          element.appendChild(docLink);\n",
              "        }\n",
              "      </script>\n",
              "    </div>\n",
              "  </div>\n",
              "  "
            ]
          },
          "metadata": {},
          "execution_count": 8
        }
      ]
    },
    {
      "cell_type": "code",
      "source": [
        "import datetime\n",
        "\n",
        "#qui prendo i dati per la validazione: giornata del 4 aprile\n",
        "df_One=df.loc[start_validation:end_validation] \n",
        "\n",
        "Y_One=df_One[\"Sensor Glucose (mg/dL)\"].values #valori reali del 4 aprile\n",
        "X_One=df_One.drop(\"Sensor Glucose (mg/dL)\", axis=1).values\n",
        "\n",
        "fig=plt.figure()\n",
        "fig.set_figwidth(15)\n",
        "labels = df_One.index.strftime('%H:%M')\n",
        "plt.plot(labels,Y_One)\n",
        "plt.xticks(rotation=90) #i xticks sono i 'tick' sull'asse delle x, rotation=90 è per metterli in verticale\n",
        "plt.xticks(np.arange(0, len(labels), 5)) "
      ],
      "metadata": {
        "colab": {
          "base_uri": "https://localhost:8080/",
          "height": 998
        },
        "id": "ytuIUewowYjy",
        "outputId": "64fa8045-0b19-4792-c1f0-4e33d0abfd8d"
      },
      "execution_count": 9,
      "outputs": [
        {
          "output_type": "execute_result",
          "data": {
            "text/plain": [
              "([<matplotlib.axis.XTick at 0x7f1f96837310>,\n",
              "  <matplotlib.axis.XTick at 0x7f1f96e95b90>,\n",
              "  <matplotlib.axis.XTick at 0x7f1f97f59690>,\n",
              "  <matplotlib.axis.XTick at 0x7f1f96e2ad50>,\n",
              "  <matplotlib.axis.XTick at 0x7f1f96bafa90>,\n",
              "  <matplotlib.axis.XTick at 0x7f1f96dc6bd0>,\n",
              "  <matplotlib.axis.XTick at 0x7f1f96bb7110>,\n",
              "  <matplotlib.axis.XTick at 0x7f1f96e89910>,\n",
              "  <matplotlib.axis.XTick at 0x7f1f9692be50>,\n",
              "  <matplotlib.axis.XTick at 0x7f1f968510d0>,\n",
              "  <matplotlib.axis.XTick at 0x7f1f9692bbd0>,\n",
              "  <matplotlib.axis.XTick at 0x7f1f97dc6410>,\n",
              "  <matplotlib.axis.XTick at 0x7f1f96b55c90>,\n",
              "  <matplotlib.axis.XTick at 0x7f1f96b55b10>,\n",
              "  <matplotlib.axis.XTick at 0x7f1f96b55990>,\n",
              "  <matplotlib.axis.XTick at 0x7f1f96e28b10>,\n",
              "  <matplotlib.axis.XTick at 0x7f1f96e282d0>,\n",
              "  <matplotlib.axis.XTick at 0x7f1f9699b7d0>,\n",
              "  <matplotlib.axis.XTick at 0x7f1f9699bc90>,\n",
              "  <matplotlib.axis.XTick at 0x7f1f9699b390>,\n",
              "  <matplotlib.axis.XTick at 0x7f1f96e28350>,\n",
              "  <matplotlib.axis.XTick at 0x7f1f96b55050>,\n",
              "  <matplotlib.axis.XTick at 0x7f1f96b55150>,\n",
              "  <matplotlib.axis.XTick at 0x7f1f9695d750>,\n",
              "  <matplotlib.axis.XTick at 0x7f1f9695dc90>,\n",
              "  <matplotlib.axis.XTick at 0x7f1f96953250>,\n",
              "  <matplotlib.axis.XTick at 0x7f1f96953750>,\n",
              "  <matplotlib.axis.XTick at 0x7f1f96953c90>,\n",
              "  <matplotlib.axis.XTick at 0x7f1f96940210>,\n",
              "  <matplotlib.axis.XTick at 0x7f1f969532d0>,\n",
              "  <matplotlib.axis.XTick at 0x7f1f9695d490>,\n",
              "  <matplotlib.axis.XTick at 0x7f1f96940350>,\n",
              "  <matplotlib.axis.XTick at 0x7f1f96940190>,\n",
              "  <matplotlib.axis.XTick at 0x7f1f96c83310>,\n",
              "  <matplotlib.axis.XTick at 0x7f1f96c83890>,\n",
              "  <matplotlib.axis.XTick at 0x7f1f96c83e90>,\n",
              "  <matplotlib.axis.XTick at 0x7f1f96c874d0>,\n",
              "  <matplotlib.axis.XTick at 0x7f1f96c87ad0>,\n",
              "  <matplotlib.axis.XTick at 0x7f1f96c8c050>,\n",
              "  <matplotlib.axis.XTick at 0x7f1f96c87e10>,\n",
              "  <matplotlib.axis.XTick at 0x7f1f96940a10>],\n",
              " <a list of 41 Text major ticklabel objects>)"
            ]
          },
          "metadata": {},
          "execution_count": 9
        },
        {
          "output_type": "display_data",
          "data": {
            "text/plain": [
              "<Figure size 1080x288 with 1 Axes>"
            ],
            "image/png": "[encoded data removed]"
          },
          "metadata": {
            "needs_background": "light"
          }
        }
      ]
    },
    {
      "cell_type": "code",
      "source": [
        "#pipe=make_pipeline(StandardScaler(), LinearRegression())\n",
        "#pipe.fit(X_train,Y_train)\n",
        "#Y_pred = pipe.predict(X_test)\n",
        "\n",
        "#Y_predOneLinear=Y_pred[(len(Y_pred)-lengthLast-lengthOne):(len(Y_pred)-lengthLast)] #parto dalla fine-gli elementi dell'ultimo giorno- gli elementi del penultimo giorno fino a (fine-elementi ultimo giorno)\n",
        "\n",
        "#fig=plt.figure()\n",
        "#fig.set_figwidth(15)\n",
        "#labels = df_One.index.strftime('%H:%M')\n",
        "#plt.plot(labels,Y_predOneLinear,color='red')\n",
        "#plt.plot(labels,Y_One,color='green')\n",
        "#plt.xticks(rotation=90) #i xticks sono i 'tick' sull'asse delle x, rotation=90 è per metterli in verticale\n",
        "#plt.xticks(np.arange(0, len(labels), 5))"
      ],
      "metadata": {
        "id": "Hgixb5Dhwi5v"
      },
      "execution_count": 10,
      "outputs": []
    },
    {
      "cell_type": "code",
      "source": [
        "#Facciamo la nostra predizione sui dati di validation\n",
        "Y_pred = pipe.predict(X_One)\n",
        "\n",
        "print(len(Y_pred))\n",
        "print(len(Y_One))"
      ],
      "metadata": {
        "colab": {
          "base_uri": "https://localhost:8080/"
        },
        "id": "6bgp6p6hfZRG",
        "outputId": "a3c91ebf-e688-4349-fe46-246b82af4102"
      },
      "execution_count": 11,
      "outputs": [
        {
          "output_type": "stream",
          "name": "stdout",
          "text": [
            "203\n",
            "203\n"
          ]
        }
      ]
    },
    {
      "cell_type": "code",
      "source": [
        "fig=plt.figure()\n",
        "fig.set_figwidth(15)\n",
        "labels = df_One.index.strftime('%H:%M')\n",
        "plt.plot(labels,Y_One,color='red') #valori reali\n",
        "plt.plot(labels,Y_pred,color='green') #previsione\n",
        "plt.xticks(rotation=90) #i xticks sono i 'tick' sull'asse delle x, rotation=90 è per metterli in verticale\n",
        "plt.xticks(np.arange(0, len(labels), 5))"
      ],
      "metadata": {
        "colab": {
          "base_uri": "https://localhost:8080/",
          "height": 998
        },
        "id": "qGImgoGVEffB",
        "outputId": "48f81ff5-f6a4-452c-a14d-6e0dbddc5030"
      },
      "execution_count": 12,
      "outputs": [
        {
          "output_type": "execute_result",
          "data": {
            "text/plain": [
              "([<matplotlib.axis.XTick at 0x7f1f96cda1d0>,\n",
              "  <matplotlib.axis.XTick at 0x7f1f96cda090>,\n",
              "  <matplotlib.axis.XTick at 0x7f1f96cb7590>,\n",
              "  <matplotlib.axis.XTick at 0x7f1f93b09690>,\n",
              "  <matplotlib.axis.XTick at 0x7f1f93b09250>,\n",
              "  <matplotlib.axis.XTick at 0x7f1f93b09f10>,\n",
              "  <matplotlib.axis.XTick at 0x7f1f93aff550>,\n",
              "  <matplotlib.axis.XTick at 0x7f1f93affa90>,\n",
              "  <matplotlib.axis.XTick at 0x7f1f93affe50>,\n",
              "  <matplotlib.axis.XTick at 0x7f1f93ae5550>,\n",
              "  <matplotlib.axis.XTick at 0x7f1f93ae5a50>,\n",
              "  <matplotlib.axis.XTick at 0x7f1f93ae5f10>,\n",
              "  <matplotlib.axis.XTick at 0x7f1f93b05c90>,\n",
              "  <matplotlib.axis.XTick at 0x7f1f93b051d0>,\n",
              "  <matplotlib.axis.XTick at 0x7f1f93ae57d0>,\n",
              "  <matplotlib.axis.XTick at 0x7f1f93b09f50>,\n",
              "  <matplotlib.axis.XTick at 0x7f1f93b056d0>,\n",
              "  <matplotlib.axis.XTick at 0x7f1f93b05890>,\n",
              "  <matplotlib.axis.XTick at 0x7f1f96964650>,\n",
              "  <matplotlib.axis.XTick at 0x7f1f96964b90>,\n",
              "  <matplotlib.axis.XTick at 0x7f1f96964a10>,\n",
              "  <matplotlib.axis.XTick at 0x7f1f9698a650>,\n",
              "  <matplotlib.axis.XTick at 0x7f1f9698ab90>,\n",
              "  <matplotlib.axis.XTick at 0x7f1f9698aa10>,\n",
              "  <matplotlib.axis.XTick at 0x7f1f9698a910>,\n",
              "  <matplotlib.axis.XTick at 0x7f1f96964710>,\n",
              "  <matplotlib.axis.XTick at 0x7f1f93aff710>,\n",
              "  <matplotlib.axis.XTick at 0x7f1f9697c790>,\n",
              "  <matplotlib.axis.XTick at 0x7f1f9697ccd0>,\n",
              "  <matplotlib.axis.XTick at 0x7f1f96986290>,\n",
              "  <matplotlib.axis.XTick at 0x7f1f96986790>,\n",
              "  <matplotlib.axis.XTick at 0x7f1f96986cd0>,\n",
              "  <matplotlib.axis.XTick at 0x7f1f9697f290>,\n",
              "  <matplotlib.axis.XTick at 0x7f1f9697f790>,\n",
              "  <matplotlib.axis.XTick at 0x7f1f969864d0>,\n",
              "  <matplotlib.axis.XTick at 0x7f1f9697c3d0>,\n",
              "  <matplotlib.axis.XTick at 0x7f1f9697fd10>,\n",
              "  <matplotlib.axis.XTick at 0x7f1f9697f050>,\n",
              "  <matplotlib.axis.XTick at 0x7f1f9696f490>,\n",
              "  <matplotlib.axis.XTick at 0x7f1f9696f950>,\n",
              "  <matplotlib.axis.XTick at 0x7f1f9696fe90>],\n",
              " <a list of 41 Text major ticklabel objects>)"
            ]
          },
          "metadata": {},
          "execution_count": 12
        },
        {
          "output_type": "display_data",
          "data": {
            "text/plain": [
              "<Figure size 1080x288 with 1 Axes>"
            ],
            "image/png": "[encoded data removed]"
          },
          "metadata": {
            "needs_background": "light"
          }
        }
      ]
    },
    {
      "cell_type": "code",
      "source": [
        "errore = mean_squared_error(Y_One, Y_pred)\n",
        "print(\"Errore:\", errore)\n",
        "punteggio = r2_score(Y_One, Y_pred)\n",
        "print(\"Score:\", punteggio)"
      ],
      "metadata": {
        "colab": {
          "base_uri": "https://localhost:8080/"
        },
        "id": "EDmzRuoRTAuz",
        "outputId": "efb3bc18-2642-4544-c6ed-e16162f6ae26"
      },
      "execution_count": 13,
      "outputs": [
        {
          "output_type": "stream",
          "name": "stdout",
          "text": [
            "Errore: 135.8436356935951\n",
            "Score: 0.936477717929199\n"
          ]
        }
      ]
    }
  ]
}